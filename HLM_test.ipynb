{
  "nbformat": 4,
  "nbformat_minor": 0,
  "metadata": {
    "colab": {
      "name": "HLM_test.ipynb",
      "provenance": [],
      "collapsed_sections": [],
      "authorship_tag": "ABX9TyPV1FNbi14IMdFnfnmic4D7",
      "include_colab_link": true
    },
    "kernelspec": {
      "name": "python3",
      "display_name": "Python 3"
    },
    "language_info": {
      "name": "python"
    }
  },
  "cells": [
    {
      "cell_type": "markdown",
      "metadata": {
        "id": "view-in-github",
        "colab_type": "text"
      },
      "source": [
        "<a href=\"https://colab.research.google.com/github/shan-gao-qd/WhichCharacter/blob/main/HLM_test.ipynb\" target=\"_parent\"><img src=\"https://colab.research.google.com/assets/colab-badge.svg\" alt=\"Open In Colab\"/></a>"
      ]
    },
    {
      "cell_type": "code",
      "source": [
        "from sklearn.linear_model import LogisticRegression"
      ],
      "metadata": {
        "id": "VRQiIfoYzwwo"
      },
      "execution_count": null,
      "outputs": []
    },
    {
      "cell_type": "markdown",
      "source": [
        "##More Extensive"
      ],
      "metadata": {
        "id": "JIKCe79mqV3C"
      }
    },
    {
      "cell_type": "code",
      "source": [
        "twelve1 = ['林黛玉', '薛宝钗', '贾元春', '贾探春', '史湘云', '妙玉', '贾迎春', '贾惜春', '王熙凤', '李纨', '秦可卿']\n",
        "twelve2 = ['香菱', '薛宝琴', '尤三姐', '尤二姐', '邢岫烟']\n",
        "maids = ['袭人', '晴雯', '平儿', '鸳鸯', '金钏', '紫娟', '司棋', '麝月', '小红', '秋纹', '碧痕', '茜雪', '坠儿', \n",
        "         '莺儿', '娇杏', '龄官', '芳官', '秋桐', '入画', '彩云', '待书', '傻大姐', '菂官', '藕官', '柳五儿']\n",
        "ladies = ['贾母', '王夫人', '薛姨妈', '邢夫人', '尤氏', '赵姨娘', '贾敏', '尤老娘']\n",
        "servants_f = ['李嬷嬷', '周瑞家的', '来旺家的', '林之孝家的', '鲍二家的', '多姑娘', '柳嫂子']\n",
        "others_f = ['刘姥姥','封氏', '夏金桂', '智能儿', '二丫头', '马道婆', '云儿']\n",
        "jias = ['贾宝玉', '贾敬', '贾赦', '贾政', '贾珍', '贾珠', '贾琏', '贾环', '贾瑞', '贾蓉', '贾兰', '贾蔷', '贾菌', '贾芸']\n",
        "servants_m =  ['茗烟', '焦大', '周瑞', '来旺', '林之孝', '多浑虫']\n",
        "males = ['薛蝌', '薛蟠', '秦钟', '柳湘莲', '蒋玉菡', '孙绍祖', '贾雨村', '冯紫英', '北静王', '潘又安', '甄宝玉', '王成', '甄士隐', '林如海', '封肃']\n",
        "others_m = ['板儿', '张道士', '门子', '霍启', '疯跛道人']"
      ],
      "metadata": {
        "id": "GvAU9Q20UTVQ"
      },
      "execution_count": null,
      "outputs": []
    },
    {
      "cell_type": "markdown",
      "source": [
        "##Questions and characters"
      ],
      "metadata": {
        "id": "44sqrpkpznCs"
      }
    },
    {
      "cell_type": "code",
      "source": [
        "questions = ['晦涩难懂,主流大众',\n",
        "             '烦恼的,愉快的',\n",
        "             '自由散漫,纪律委员', \n",
        "             '不修边幅,洁癖', \n",
        "             '讲大实话,有点阴阳', \n",
        "             '纵情享受,清醒冷静', \n",
        "             '宽容,严格', \n",
        "             '蛮不讲理,合情合理', \n",
        "             '接地气,象牙塔',\n",
        "             '墨守成规,大胆创新']"
      ],
      "metadata": {
        "id": "zI7Abgzm4Pvv"
      },
      "execution_count": null,
      "outputs": []
    },
    {
      "cell_type": "code",
      "source": [
        "characters = []\n",
        "characters.extend(twelve1)"
      ],
      "metadata": {
        "id": "lTeWHub3Q_J4"
      },
      "execution_count": null,
      "outputs": []
    },
    {
      "cell_type": "code",
      "source": [
        "twelves = ['林黛玉', '薛宝钗', '贾元春', '贾探春', '史湘云', '妙玉', '贾迎春', '贾惜春', '王熙凤', '李纨', '秦可卿', '香菱', '薛宝琴', '尤三姐', '尤二姐', '邢岫烟']\n",
        "maids = ['袭人', '晴雯', '平儿', '鸳鸯', '金钏', '紫娟', '司棋', '麝月', '小红', '莺儿', '龄官', '芳官', '傻大姐']\n",
        "ladies = ['贾母', '王夫人', '薛姨妈', '邢夫人', '尤氏', '赵姨娘']\n",
        "jias = ['贾宝玉', '贾赦', '贾政', '贾珍', '贾琏', '贾环', '贾瑞', '贾蓉', '贾蔷', '贾芸']\n",
        "males = ['薛蝌', '薛蟠', '秦钟', '柳湘莲', '蒋玉菡', '孙绍祖', '贾雨村', '北静王', '甄士隐']\n",
        "others = ['刘姥姥', '夏金桂', '疯跛道人', '茗烟', '焦大']"
      ],
      "metadata": {
        "id": "vpAb2lkon37f"
      },
      "execution_count": null,
      "outputs": []
    },
    {
      "cell_type": "code",
      "source": [
        "main_chars = []\n",
        "main_chars.extend(twelves)\n",
        "main_chars.extend(maids)\n",
        "main_chars.extend(ladies)\n",
        "main_chars.extend(jias)\n",
        "main_chars.extend(males)\n",
        "main_chars.extend(others)\n",
        "len(main_chars)"
      ],
      "metadata": {
        "colab": {
          "base_uri": "https://localhost:8080/"
        },
        "id": "Y_tPcjFZUuHe",
        "outputId": "77944396-4c44-4933-bb06-10ac1cbe632f"
      },
      "execution_count": null,
      "outputs": [
        {
          "output_type": "execute_result",
          "data": {
            "text/plain": [
              "59"
            ]
          },
          "metadata": {},
          "execution_count": 289
        }
      ]
    },
    {
      "cell_type": "markdown",
      "source": [
        "## Ratings"
      ],
      "metadata": {
        "id": "crGXg9PGSszf"
      }
    },
    {
      "cell_type": "code",
      "source": [
        "ratings = [[20, 24, 20, 90, 75, 55, 65, 35, 85, 75],\n",
        "           [40, 60, 65, 75, 46, 93, 47, 89, 68, 62],\n",
        "           [70, 45, 72, 60, 50, 43, 38, 76, 70, 42],\n",
        "           [63, 74, 76, 40, 50, 70, 60, 83, 43, 78],\n",
        "           [50, 86, 30, 30, 16, 10, 17, 68, 33, 76],\n",
        "           [4, 40, 38, 100, 80, 64, 64, 44, 87, 73],\n",
        "           [68, 47, 20, 47, 56, 45, 30, 64, 37, 13],\n",
        "           [30, 50, 30, 56, 40, 50, 45, 55, 64, 33],\n",
        "           [88, 78, 83, 49, 62, 38, 76, 54, 28, 65],\n",
        "           [80, 60, 65, 53, 43, 53, 33, 91, 62, 55],\n",
        "           [40, 30, 34, 56, 47, 70, 27, 67, 50, 50]]    "
      ],
      "metadata": {
        "id": "zgQyiH5K36Pb"
      },
      "execution_count": null,
      "outputs": []
    },
    {
      "cell_type": "markdown",
      "source": [
        "##Model"
      ],
      "metadata": {
        "id": "NEe2e8jZS2Xt"
      }
    },
    {
      "cell_type": "code",
      "source": [
        "X = ratings\n",
        "y = list(range(0,len(characters)))\n",
        "regressor = LogisticRegression(max_iter=2000)\n",
        "regressor.fit(X, y)"
      ],
      "metadata": {
        "colab": {
          "base_uri": "https://localhost:8080/"
        },
        "id": "SLPnWsboPbrP",
        "outputId": "e3f49658-8279-4fe8-d9ed-6186533d2eb3"
      },
      "execution_count": null,
      "outputs": [
        {
          "output_type": "execute_result",
          "data": {
            "text/plain": [
              "LogisticRegression(max_iter=2000)"
            ]
          },
          "metadata": {},
          "execution_count": 258
        }
      ]
    },
    {
      "cell_type": "markdown",
      "source": [
        "## Prediction"
      ],
      "metadata": {
        "id": "XH_GdGROTAv6"
      }
    },
    {
      "cell_type": "code",
      "source": [
        "test = [33, 70, 50, 20, 28, 10, 50, 60, 30, 78]\n",
        "y_pred = regressor.predict([test])\n",
        "characters[int(y_pred)]"
      ],
      "metadata": {
        "colab": {
          "base_uri": "https://localhost:8080/",
          "height": 35
        },
        "id": "rgKCZAn9O0g5",
        "outputId": "265eb4c4-f2ab-4f5a-e623-989a47e8a2a0"
      },
      "execution_count": null,
      "outputs": [
        {
          "output_type": "execute_result",
          "data": {
            "text/plain": [
              "'史湘云'"
            ],
            "application/vnd.google.colaboratory.intrinsic+json": {
              "type": "string"
            }
          },
          "metadata": {},
          "execution_count": 266
        }
      ]
    }
  ]
}